{
 "cells": [
  {
   "cell_type": "code",
   "execution_count": 12,
   "metadata": {},
   "outputs": [],
   "source": [
    "import numpy as np"
   ]
  },
  {
   "cell_type": "code",
   "execution_count": 13,
   "metadata": {},
   "outputs": [],
   "source": [
    "def gradientDescent(X, y, theta, alpha, num_iters):\n",
    "    #GRADIENTDESCENT Performs gradient descent to learn theta\n",
    "    #   theta = GRADIENTDESENT(X, y, theta, alpha, num_iters) updates theta by \n",
    "    #   taking num_iters gradient steps with learning rate alpha\n",
    "\n",
    "    # Initialize some useful values\n",
    "    m = len(y) #number of training useful values\n",
    "    J_history = np.zeros((num_iters,1))\n",
    "    for i in range(num_iters):\n",
    "        # =============================== YOUR CODE HERE ============================\n",
    "        # Instructions: Perform a single gradient step on the parameter vector\n",
    "        #               theta. \n",
    "        #\n",
    "        # Hint: While debugging, it can be useful to print out the values\n",
    "        #       of the cost function (computeCost) and gradient here.\n",
    "        #\n",
    "        \n",
    "        theta = theta - alpha*(1.0/m) * np.transpose(X).dot(X.dot(theta) - np.transpose([y]))\n",
    "        \n",
    "        # ==========================================================================\n",
    "        \n",
    "        # Save the cost J in every iteration\n",
    "        import computeCost as cc\n",
    "        J_history[i] = cc.computeCost(X,y,theta)\n",
    "    return theta"
   ]
  },
  {
   "cell_type": "code",
   "execution_count": null,
   "metadata": {},
   "outputs": [],
   "source": []
  }
 ],
 "metadata": {
  "kernelspec": {
   "display_name": "Python 3",
   "language": "python",
   "name": "python3"
  },
  "language_info": {
   "codemirror_mode": {
    "name": "ipython",
    "version": 3
   },
   "file_extension": ".py",
   "mimetype": "text/x-python",
   "name": "python",
   "nbconvert_exporter": "python",
   "pygments_lexer": "ipython3",
   "version": "3.7.6"
  }
 },
 "nbformat": 4,
 "nbformat_minor": 4
}
