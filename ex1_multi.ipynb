{
 "cells": [
  {
   "cell_type": "code",
   "execution_count": 15,
   "metadata": {},
   "outputs": [],
   "source": [
    "import numpy as np\n",
    "import matplotlib.pyplot as plt\n",
    "import featureNormalize as fn\n",
    "import gradientDescentMulti as gdm\n",
    "import normalEqn as ne"
   ]
  },
  {
   "cell_type": "code",
   "execution_count": 2,
   "metadata": {},
   "outputs": [],
   "source": [
    "data = np.loadtxt('ex1data2.txt', delimiter=',')\n",
    "X = data[:,:2]\n",
    "y = data[:,2]\n",
    "m = len(y)"
   ]
  },
  {
   "cell_type": "code",
   "execution_count": 3,
   "metadata": {},
   "outputs": [
    {
     "name": "stdout",
     "output_type": "stream",
     "text": [
      "x = [2104 3], y = 399900\n",
      "x = [1600 3], y = 329900\n",
      "x = [2400 3], y = 369000\n",
      "x = [1416 2], y = 232000\n",
      "x = [3000 4], y = 539900\n",
      "x = [1985 4], y = 299900\n",
      "x = [1534 3], y = 314900\n",
      "x = [1427 3], y = 198999\n",
      "x = [1380 3], y = 212000\n",
      "x = [1494 3], y = 242500\n"
     ]
    }
   ],
   "source": [
    "for i in range(10):\n",
    "    print(\"x = [{:.0f} {:.0f}], y = {:.0f}\".format(X[i,0], X[i,1], y[i]))"
   ]
  },
  {
   "cell_type": "code",
   "execution_count": 4,
   "metadata": {},
   "outputs": [],
   "source": [
    "X_norm, mu, sigma = fn.featureNormalize(X)"
   ]
  },
  {
   "cell_type": "code",
   "execution_count": 5,
   "metadata": {},
   "outputs": [],
   "source": [
    "X_padded = np.column_stack((np.ones((m,1)), X_norm))"
   ]
  },
  {
   "cell_type": "code",
   "execution_count": 6,
   "metadata": {},
   "outputs": [],
   "source": [
    "alpha = 0.01\n",
    "num_iters = 400\n",
    "theta = np.zeros((3,1))"
   ]
  },
  {
   "cell_type": "code",
   "execution_count": 7,
   "metadata": {},
   "outputs": [],
   "source": [
    "theta, J_history = gdm.gradientDescentMulti(X_padded, y, theta, alpha, num_iters)"
   ]
  },
  {
   "cell_type": "code",
   "execution_count": 8,
   "metadata": {},
   "outputs": [
    {
     "data": {
      "image/png": "[encoded data removed]",
      "text/plain": [
       "<Figure size 432x288 with 1 Axes>"
      ]
     },
     "metadata": {
      "needs_background": "light"
     },
     "output_type": "display_data"
    }
   ],
   "source": [
    "plt.plot(range(J_history.size), J_history, \"-b\", linewidth=2)\n",
    "plt.xlabel('Number of iterations')\n",
    "plt.ylabel('Cost J')\n",
    "plt.show()"
   ]
  },
  {
   "cell_type": "code",
   "execution_count": 9,
   "metadata": {},
   "outputs": [
    {
     "name": "stdout",
     "output_type": "stream",
     "text": [
      "Theta computed from gradient descent: \n",
      "45678.665371, -116004.561856, 53835.547557\n",
      "\n"
     ]
    }
   ],
   "source": [
    "print('Theta computed from gradient descent: ')\n",
    "print(\"{:f}, {:f}, {:f}\".format(theta[0,0], theta[1,0], theta[2,0]))\n",
    "print(\"\")"
   ]
  },
  {
   "cell_type": "code",
   "execution_count": 10,
   "metadata": {},
   "outputs": [
    {
     "name": "stdout",
     "output_type": "stream",
     "text": [
      "[0.75284281]\n"
     ]
    }
   ],
   "source": [
    "print(sigma[:,1])"
   ]
  },
  {
   "cell_type": "code",
   "execution_count": 11,
   "metadata": {},
   "outputs": [
    {
     "name": "stdout",
     "output_type": "stream",
     "text": [
      "Predicted price of a 1650 sq-ft, 3 br house (using gradient descent):\n",
      " $85,249.93\n"
     ]
    }
   ],
   "source": [
    "area_norm = (1650 - float(mu[:,0])) / float(sigma[:,0])\n",
    "br_norm = (3 - float(mu[:,1]))/float(sigma[:,1])\n",
    "house_norm_padded = np.array([1, area_norm, br_norm])\n",
    "\n",
    "price = np.array(house_norm_padded).dot(theta)\n",
    "\n",
    "# ============================================================\n",
    "\n",
    "print(\"Predicted price of a 1650 sq-ft, 3 br house (using gradient descent):\\n ${:,.2f}\".format(price[0]))"
   ]
  },
  {
   "cell_type": "code",
   "execution_count": 12,
   "metadata": {},
   "outputs": [],
   "source": [
    "data = np.loadtxt('ex1data2.txt', delimiter=\",\")\n",
    "X = data[:,:2]\n",
    "y = data[:,2]\n",
    "m = len(y)"
   ]
  },
  {
   "cell_type": "code",
   "execution_count": 13,
   "metadata": {},
   "outputs": [],
   "source": [
    "X_padded = np.column_stack((np.ones((m,1)), X))"
   ]
  },
  {
   "cell_type": "code",
   "execution_count": 16,
   "metadata": {},
   "outputs": [],
   "source": [
    "theta = ne.normalEqn(X_padded, y)"
   ]
  },
  {
   "cell_type": "code",
   "execution_count": 17,
   "metadata": {},
   "outputs": [
    {
     "name": "stdout",
     "output_type": "stream",
     "text": [
      "Theta computed from the normal equations: \n",
      "89597.909544, 139.210674, -8738.019113\n"
     ]
    }
   ],
   "source": [
    "print('Theta computed from the normal equations: ')\n",
    "print(\"{:f}, {:f}, {:f}\".format(theta[0], theta[1], theta[2]))"
   ]
  },
  {
   "cell_type": "code",
   "execution_count": 19,
   "metadata": {},
   "outputs": [
    {
     "name": "stdout",
     "output_type": "stream",
     "text": [
      "Predicted price of a 1650 sq-ft, 3 br house (using gradient descent): \n",
      " $293,081.46\n"
     ]
    }
   ],
   "source": [
    "house_norm_padded = np.array([1, 1650, 3])\n",
    "price = np.array(house_norm_padded).dot(theta)\n",
    "print(\"Predicted price of a 1650 sq-ft, 3 br house (using gradient descent): \\n ${:,.2f}\".format(price))"
   ]
  },
  {
   "cell_type": "code",
   "execution_count": null,
   "metadata": {},
   "outputs": [],
   "source": []
  }
 ],
 "metadata": {
  "kernelspec": {
   "display_name": "Python 3",
   "language": "python",
   "name": "python3"
  },
  "language_info": {
   "codemirror_mode": {
    "name": "ipython",
    "version": 3
   },
   "file_extension": ".py",
   "mimetype": "text/x-python",
   "name": "python",
   "nbconvert_exporter": "python",
   "pygments_lexer": "ipython3",
   "version": "3.7.7"
  }
 },
 "nbformat": 4,
 "nbformat_minor": 4
}
